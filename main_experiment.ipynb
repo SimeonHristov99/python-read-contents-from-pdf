{
 "cells": [
  {
   "cell_type": "markdown",
   "metadata": {},
   "source": [
    "# Imports"
   ]
  },
  {
   "cell_type": "code",
   "execution_count": null,
   "metadata": {},
   "outputs": [],
   "source": [
    "%reset -f"
   ]
  },
  {
   "cell_type": "code",
   "execution_count": null,
   "metadata": {},
   "outputs": [],
   "source": [
    "import io\n",
    "\n",
    "from pdfminer.high_level import extract_text\n",
    "import fitz # from pymupdf\n",
    "import PIL.Image\n",
    "import tabula\n",
    "\n",
    "from transformers import pipeline\n",
    "\n",
    "from tqdm import tqdm\n",
    "import json"
   ]
  },
  {
   "cell_type": "code",
   "execution_count": null,
   "metadata": {},
   "outputs": [],
   "source": [
    "FILENAME1 = 'Data/file1.pdf'\n",
    "FILENAME2 = 'Data/file2.pdf'\n",
    "\n",
    "RESULTS1 = 'Results/file1'\n",
    "RESULTS2 = 'Results/file2'"
   ]
  },
  {
   "cell_type": "markdown",
   "metadata": {},
   "source": [
    "# Reading contents"
   ]
  },
  {
   "cell_type": "markdown",
   "metadata": {},
   "source": [
    "## OCR (extract all text from pdf)"
   ]
  },
  {
   "cell_type": "code",
   "execution_count": null,
   "metadata": {},
   "outputs": [],
   "source": [
    "text1 = extract_text(FILENAME1)\n",
    "text1"
   ]
  },
  {
   "cell_type": "code",
   "execution_count": null,
   "metadata": {},
   "outputs": [],
   "source": [
    "text2 = extract_text(FILENAME2)\n",
    "text2"
   ]
  },
  {
   "cell_type": "markdown",
   "metadata": {},
   "source": [
    "## Extract tables"
   ]
  },
  {
   "cell_type": "code",
   "execution_count": null,
   "metadata": {},
   "outputs": [],
   "source": [
    "dfs1 = tabula.read_pdf(FILENAME1, pages='all')\n",
    "print(f'Extracted a total of {len(dfs1)} tables.')"
   ]
  },
  {
   "cell_type": "code",
   "execution_count": null,
   "metadata": {},
   "outputs": [],
   "source": [
    "dfs2 = tabula.read_pdf(FILENAME2, pages='all')\n",
    "print(f'Extracted a total of {len(dfs2)} tables.')"
   ]
  },
  {
   "cell_type": "code",
   "execution_count": null,
   "metadata": {},
   "outputs": [],
   "source": [
    "dfs2[0]"
   ]
  },
  {
   "cell_type": "markdown",
   "metadata": {},
   "source": [
    "# Run dlite"
   ]
  },
  {
   "cell_type": "code",
   "execution_count": null,
   "metadata": {},
   "outputs": [],
   "source": [
    "pipe = pipeline(\"text-generation\", model=\"aisquared/dlite-v2-124m\", trust_remote_code=True)\n",
    "pipe"
   ]
  },
  {
   "cell_type": "code",
   "execution_count": null,
   "metadata": {},
   "outputs": [],
   "source": [
    "pipe('Hello :)')"
   ]
  },
  {
   "cell_type": "markdown",
   "metadata": {},
   "source": [
    "## On text from `file1`."
   ]
  },
  {
   "cell_type": "code",
   "execution_count": null,
   "metadata": {},
   "outputs": [],
   "source": [
    "def split_string_into_batches(input_string, batch_length):\n",
    "    batches = []\n",
    "    for i in range(0, len(input_string), batch_length):\n",
    "        batch = input_string[i:i+batch_length]\n",
    "        batches.append(batch)\n",
    "    return batches\n",
    "\n",
    "\n",
    "batch_length = 128\n",
    "result = split_string_into_batches(text1, batch_length)\n",
    "\n",
    "results1 = {}\n",
    "for i, batch in tqdm(enumerate(result)):\n",
    "    results1[f'prompt_{i:003}'] = batch\n",
    "    results1[f'response_{i:003}'] = pipe(batch)\n",
    "results1"
   ]
  },
  {
   "cell_type": "markdown",
   "metadata": {},
   "source": [
    "## On text from `file2`."
   ]
  },
  {
   "cell_type": "code",
   "execution_count": null,
   "metadata": {},
   "outputs": [],
   "source": [
    "result = split_string_into_batches(text2, batch_length)\n",
    "\n",
    "results2_text = {}\n",
    "for i, batch in tqdm(enumerate(result)):\n",
    "    results2_text[f'prompt_{i:003}'] = batch\n",
    "    results2_text[f'response_{i:003}'] = pipe(batch)\n",
    "results2_text"
   ]
  },
  {
   "cell_type": "code",
   "execution_count": null,
   "metadata": {},
   "outputs": [],
   "source": [
    "results2_text"
   ]
  },
  {
   "cell_type": "markdown",
   "metadata": {},
   "source": [
    "# Save to files"
   ]
  },
  {
   "cell_type": "code",
   "execution_count": null,
   "metadata": {},
   "outputs": [],
   "source": [
    "with open(f'{RESULTS1}/results.json', 'w') as f:\n",
    "    json.dump(results1, f)\n",
    "\n",
    "with open(f'{RESULTS1}/ocr.txt', 'w') as f:\n",
    "    f.write(text1)\n",
    "\n",
    "for idx, df in enumerate(dfs1):\n",
    "    df.to_csv(f'{RESULTS1}/tables/table_{idx:02}.csv', index_label='Index')"
   ]
  },
  {
   "cell_type": "code",
   "execution_count": null,
   "metadata": {},
   "outputs": [],
   "source": [
    "with open(f'{RESULTS2}/results2_text.json', 'w') as f:\n",
    "    json.dump(results2_text, f)\n",
    "\n",
    "with open(f'{RESULTS2}/ocr.txt', 'w') as f:\n",
    "    f.write(text1)\n",
    "\n",
    "for idx, df in enumerate(dfs2):\n",
    "    df.to_csv(f'{RESULTS2}/tables/table_{idx:02}.csv', index_label='Index')"
   ]
  }
 ],
 "metadata": {
  "kernelspec": {
   "display_name": ".venv",
   "language": "python",
   "name": "python3"
  },
  "language_info": {
   "codemirror_mode": {
    "name": "ipython",
    "version": 3
   },
   "file_extension": ".py",
   "mimetype": "text/x-python",
   "name": "python",
   "nbconvert_exporter": "python",
   "pygments_lexer": "ipython3",
   "version": "3.10.12"
  }
 },
 "nbformat": 4,
 "nbformat_minor": 2
}
